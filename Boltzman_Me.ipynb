{
 "cells": [
  {
   "cell_type": "markdown",
   "id": "851306df-65d2-44a7-b0f1-f10384d469de",
   "metadata": {},
   "source": [
    "## Importing the libraries"
   ]
  },
  {
   "cell_type": "code",
   "execution_count": 1,
   "id": "4934ef1d-a294-4f48-86e9-49434338723e",
   "metadata": {},
   "outputs": [
    {
     "name": "stdout",
     "output_type": "stream",
     "text": [
      "Collecting torch\n",
      "  Using cached torch-2.6.0-cp312-cp312-win_amd64.whl.metadata (28 kB)\n",
      "Requirement already satisfied: filelock in d:\\anaconda3\\lib\\site-packages (from torch) (3.13.1)\n",
      "Requirement already satisfied: typing-extensions>=4.10.0 in d:\\anaconda3\\lib\\site-packages (from torch) (4.11.0)\n",
      "Requirement already satisfied: networkx in d:\\anaconda3\\lib\\site-packages (from torch) (3.3)\n",
      "Requirement already satisfied: jinja2 in d:\\anaconda3\\lib\\site-packages (from torch) (3.1.4)\n",
      "Requirement already satisfied: fsspec in d:\\anaconda3\\lib\\site-packages (from torch) (2024.6.1)\n",
      "Requirement already satisfied: setuptools in d:\\anaconda3\\lib\\site-packages (from torch) (75.1.0)\n",
      "Collecting sympy==1.13.1 (from torch)\n",
      "  Using cached sympy-1.13.1-py3-none-any.whl.metadata (12 kB)\n",
      "Requirement already satisfied: mpmath<1.4,>=1.1.0 in d:\\anaconda3\\lib\\site-packages (from sympy==1.13.1->torch) (1.3.0)\n",
      "Requirement already satisfied: MarkupSafe>=2.0 in d:\\anaconda3\\lib\\site-packages (from jinja2->torch) (2.1.3)\n",
      "Using cached torch-2.6.0-cp312-cp312-win_amd64.whl (204.1 MB)\n",
      "Downloading sympy-1.13.1-py3-none-any.whl (6.2 MB)\n",
      "   ---------------------------------------- 0.0/6.2 MB ? eta -:--:--\n",
      "   ---------------------------------------- 0.0/6.2 MB ? eta -:--:--\n",
      "   - -------------------------------------- 0.3/6.2 MB ? eta -:--:--\n",
      "   - -------------------------------------- 0.3/6.2 MB ? eta -:--:--\n",
      "   --- ------------------------------------ 0.5/6.2 MB 1.0 MB/s eta 0:00:06\n",
      "   ----- ---------------------------------- 0.8/6.2 MB 1.2 MB/s eta 0:00:05\n",
      "   ------ --------------------------------- 1.0/6.2 MB 1.2 MB/s eta 0:00:05\n",
      "   ---------- ----------------------------- 1.6/6.2 MB 1.3 MB/s eta 0:00:04\n",
      "   ----------- ---------------------------- 1.8/6.2 MB 1.4 MB/s eta 0:00:04\n",
      "   --------------- ------------------------ 2.4/6.2 MB 1.5 MB/s eta 0:00:03\n",
      "   ---------------- ----------------------- 2.6/6.2 MB 1.5 MB/s eta 0:00:03\n",
      "   -------------------- ------------------- 3.1/6.2 MB 1.6 MB/s eta 0:00:02\n",
      "   ---------------------- ----------------- 3.4/6.2 MB 1.6 MB/s eta 0:00:02\n",
      "   ---------------------- ----------------- 3.4/6.2 MB 1.6 MB/s eta 0:00:02\n",
      "   ------------------------- -------------- 3.9/6.2 MB 1.5 MB/s eta 0:00:02\n",
      "   --------------------------- ------------ 4.2/6.2 MB 1.5 MB/s eta 0:00:02\n",
      "   ---------------------------- ----------- 4.5/6.2 MB 1.5 MB/s eta 0:00:02\n",
      "   ------------------------------ --------- 4.7/6.2 MB 1.5 MB/s eta 0:00:01\n",
      "   -------------------------------- ------- 5.0/6.2 MB 1.5 MB/s eta 0:00:01\n",
      "   --------------------------------- ------ 5.2/6.2 MB 1.5 MB/s eta 0:00:01\n",
      "   ----------------------------------- ---- 5.5/6.2 MB 1.5 MB/s eta 0:00:01\n",
      "   ---------------------------------------- 6.2/6.2 MB 1.5 MB/s eta 0:00:00\n",
      "Installing collected packages: sympy, torch\n",
      "  Attempting uninstall: sympy\n",
      "    Found existing installation: sympy 1.13.2\n",
      "    Uninstalling sympy-1.13.2:\n",
      "      Successfully uninstalled sympy-1.13.2\n",
      "Successfully installed sympy-1.13.1 torch-2.6.0\n"
     ]
    }
   ],
   "source": [
    "!pip install torch"
   ]
  },
  {
   "cell_type": "code",
   "execution_count": 2,
   "id": "91082ac1-b347-4225-a1fa-f69fc0403184",
   "metadata": {},
   "outputs": [
    {
     "name": "stderr",
     "output_type": "stream",
     "text": [
      "D:\\anaconda3\\Lib\\site-packages\\torch\\utils\\_pytree.py:185: FutureWarning: optree is installed but the version is too old to support PyTorch Dynamo in C++ pytree. C++ pytree support is disabled. Please consider upgrading optree using `python3 -m pip install --upgrade 'optree>=0.13.0'`.\n",
      "  warnings.warn(\n"
     ]
    }
   ],
   "source": [
    "import numpy as np\n",
    "import pandas as pd\n",
    "import torch\n",
    "import torch.nn as nn\n",
    "import torch.nn.parallel\n",
    "import torch.optim as optim\n",
    "import torch.utils.data\n",
    "from torch.autograd import Variable"
   ]
  },
  {
   "cell_type": "markdown",
   "id": "ff051675-1343-4765-b310-4b8dbda9c7ce",
   "metadata": {},
   "source": [
    "## Importing the dataset\n"
   ]
  },
  {
   "cell_type": "markdown",
   "id": "df52e8e0-f732-44c0-ab43-7dc1975c0900",
   "metadata": {},
   "source": [
    "enconding - used to import movie names as they contain special characters\n",
    "header - None as they do not contain header columns"
   ]
  },
  {
   "cell_type": "code",
   "execution_count": 3,
   "id": "c5825ce1-0cf7-4ecc-9cbb-ab8e97b2571f",
   "metadata": {},
   "outputs": [],
   "source": [
    "movies=pd.read_csv(\"ml-1m/movies.dat\",sep=\"::\",header=None,engine=\"python\",encoding=\"latin-1\")"
   ]
  },
  {
   "cell_type": "code",
   "execution_count": 4,
   "id": "e6262c3a-5e09-46e3-83e2-5534a97facd4",
   "metadata": {},
   "outputs": [
    {
     "data": {
      "text/html": [
       "<div>\n",
       "<style scoped>\n",
       "    .dataframe tbody tr th:only-of-type {\n",
       "        vertical-align: middle;\n",
       "    }\n",
       "\n",
       "    .dataframe tbody tr th {\n",
       "        vertical-align: top;\n",
       "    }\n",
       "\n",
       "    .dataframe thead th {\n",
       "        text-align: right;\n",
       "    }\n",
       "</style>\n",
       "<table border=\"1\" class=\"dataframe\">\n",
       "  <thead>\n",
       "    <tr style=\"text-align: right;\">\n",
       "      <th></th>\n",
       "      <th>0</th>\n",
       "      <th>1</th>\n",
       "      <th>2</th>\n",
       "    </tr>\n",
       "  </thead>\n",
       "  <tbody>\n",
       "    <tr>\n",
       "      <th>0</th>\n",
       "      <td>1</td>\n",
       "      <td>Toy Story (1995)</td>\n",
       "      <td>Animation|Children's|Comedy</td>\n",
       "    </tr>\n",
       "    <tr>\n",
       "      <th>1</th>\n",
       "      <td>2</td>\n",
       "      <td>Jumanji (1995)</td>\n",
       "      <td>Adventure|Children's|Fantasy</td>\n",
       "    </tr>\n",
       "    <tr>\n",
       "      <th>2</th>\n",
       "      <td>3</td>\n",
       "      <td>Grumpier Old Men (1995)</td>\n",
       "      <td>Comedy|Romance</td>\n",
       "    </tr>\n",
       "    <tr>\n",
       "      <th>3</th>\n",
       "      <td>4</td>\n",
       "      <td>Waiting to Exhale (1995)</td>\n",
       "      <td>Comedy|Drama</td>\n",
       "    </tr>\n",
       "    <tr>\n",
       "      <th>4</th>\n",
       "      <td>5</td>\n",
       "      <td>Father of the Bride Part II (1995)</td>\n",
       "      <td>Comedy</td>\n",
       "    </tr>\n",
       "  </tbody>\n",
       "</table>\n",
       "</div>"
      ],
      "text/plain": [
       "   0                                   1                             2\n",
       "0  1                    Toy Story (1995)   Animation|Children's|Comedy\n",
       "1  2                      Jumanji (1995)  Adventure|Children's|Fantasy\n",
       "2  3             Grumpier Old Men (1995)                Comedy|Romance\n",
       "3  4            Waiting to Exhale (1995)                  Comedy|Drama\n",
       "4  5  Father of the Bride Part II (1995)                        Comedy"
      ]
     },
     "execution_count": 4,
     "metadata": {},
     "output_type": "execute_result"
    }
   ],
   "source": [
    "movies.head()"
   ]
  },
  {
   "cell_type": "code",
   "execution_count": 5,
   "id": "2ecebaef-4126-4224-9097-97090fd6a799",
   "metadata": {},
   "outputs": [],
   "source": [
    "user = pd.read_csv(\"ml-1m/users.dat\",sep=\"::\",header=None,engine=\"python\",encoding=\"latin-1\")"
   ]
  },
  {
   "cell_type": "code",
   "execution_count": 6,
   "id": "e536d9e1-a5f4-4c4a-a192-8676e946f2f6",
   "metadata": {},
   "outputs": [
    {
     "data": {
      "text/html": [
       "<div>\n",
       "<style scoped>\n",
       "    .dataframe tbody tr th:only-of-type {\n",
       "        vertical-align: middle;\n",
       "    }\n",
       "\n",
       "    .dataframe tbody tr th {\n",
       "        vertical-align: top;\n",
       "    }\n",
       "\n",
       "    .dataframe thead th {\n",
       "        text-align: right;\n",
       "    }\n",
       "</style>\n",
       "<table border=\"1\" class=\"dataframe\">\n",
       "  <thead>\n",
       "    <tr style=\"text-align: right;\">\n",
       "      <th></th>\n",
       "      <th>0</th>\n",
       "      <th>1</th>\n",
       "      <th>2</th>\n",
       "      <th>3</th>\n",
       "      <th>4</th>\n",
       "    </tr>\n",
       "  </thead>\n",
       "  <tbody>\n",
       "    <tr>\n",
       "      <th>0</th>\n",
       "      <td>1</td>\n",
       "      <td>F</td>\n",
       "      <td>1</td>\n",
       "      <td>10</td>\n",
       "      <td>48067</td>\n",
       "    </tr>\n",
       "    <tr>\n",
       "      <th>1</th>\n",
       "      <td>2</td>\n",
       "      <td>M</td>\n",
       "      <td>56</td>\n",
       "      <td>16</td>\n",
       "      <td>70072</td>\n",
       "    </tr>\n",
       "    <tr>\n",
       "      <th>2</th>\n",
       "      <td>3</td>\n",
       "      <td>M</td>\n",
       "      <td>25</td>\n",
       "      <td>15</td>\n",
       "      <td>55117</td>\n",
       "    </tr>\n",
       "    <tr>\n",
       "      <th>3</th>\n",
       "      <td>4</td>\n",
       "      <td>M</td>\n",
       "      <td>45</td>\n",
       "      <td>7</td>\n",
       "      <td>02460</td>\n",
       "    </tr>\n",
       "    <tr>\n",
       "      <th>4</th>\n",
       "      <td>5</td>\n",
       "      <td>M</td>\n",
       "      <td>25</td>\n",
       "      <td>20</td>\n",
       "      <td>55455</td>\n",
       "    </tr>\n",
       "  </tbody>\n",
       "</table>\n",
       "</div>"
      ],
      "text/plain": [
       "   0  1   2   3      4\n",
       "0  1  F   1  10  48067\n",
       "1  2  M  56  16  70072\n",
       "2  3  M  25  15  55117\n",
       "3  4  M  45   7  02460\n",
       "4  5  M  25  20  55455"
      ]
     },
     "execution_count": 6,
     "metadata": {},
     "output_type": "execute_result"
    }
   ],
   "source": [
    "user.head()"
   ]
  },
  {
   "cell_type": "code",
   "execution_count": 7,
   "id": "df4ece7e-b31d-40ee-bedf-a7ec49b569ae",
   "metadata": {},
   "outputs": [],
   "source": [
    "ratings = pd.read_csv('ml-1m/ratings.dat', sep = '::', header = None, engine = 'python', encoding = 'latin-1')"
   ]
  },
  {
   "cell_type": "code",
   "execution_count": 8,
   "id": "0cb9befc-32a4-4157-9cad-c05a95423b7c",
   "metadata": {},
   "outputs": [
    {
     "data": {
      "text/html": [
       "<div>\n",
       "<style scoped>\n",
       "    .dataframe tbody tr th:only-of-type {\n",
       "        vertical-align: middle;\n",
       "    }\n",
       "\n",
       "    .dataframe tbody tr th {\n",
       "        vertical-align: top;\n",
       "    }\n",
       "\n",
       "    .dataframe thead th {\n",
       "        text-align: right;\n",
       "    }\n",
       "</style>\n",
       "<table border=\"1\" class=\"dataframe\">\n",
       "  <thead>\n",
       "    <tr style=\"text-align: right;\">\n",
       "      <th></th>\n",
       "      <th>0</th>\n",
       "      <th>1</th>\n",
       "      <th>2</th>\n",
       "      <th>3</th>\n",
       "    </tr>\n",
       "  </thead>\n",
       "  <tbody>\n",
       "    <tr>\n",
       "      <th>0</th>\n",
       "      <td>1</td>\n",
       "      <td>1193</td>\n",
       "      <td>5</td>\n",
       "      <td>978300760</td>\n",
       "    </tr>\n",
       "    <tr>\n",
       "      <th>1</th>\n",
       "      <td>1</td>\n",
       "      <td>661</td>\n",
       "      <td>3</td>\n",
       "      <td>978302109</td>\n",
       "    </tr>\n",
       "    <tr>\n",
       "      <th>2</th>\n",
       "      <td>1</td>\n",
       "      <td>914</td>\n",
       "      <td>3</td>\n",
       "      <td>978301968</td>\n",
       "    </tr>\n",
       "    <tr>\n",
       "      <th>3</th>\n",
       "      <td>1</td>\n",
       "      <td>3408</td>\n",
       "      <td>4</td>\n",
       "      <td>978300275</td>\n",
       "    </tr>\n",
       "    <tr>\n",
       "      <th>4</th>\n",
       "      <td>1</td>\n",
       "      <td>2355</td>\n",
       "      <td>5</td>\n",
       "      <td>978824291</td>\n",
       "    </tr>\n",
       "  </tbody>\n",
       "</table>\n",
       "</div>"
      ],
      "text/plain": [
       "   0     1  2          3\n",
       "0  1  1193  5  978300760\n",
       "1  1   661  3  978302109\n",
       "2  1   914  3  978301968\n",
       "3  1  3408  4  978300275\n",
       "4  1  2355  5  978824291"
      ]
     },
     "execution_count": 8,
     "metadata": {},
     "output_type": "execute_result"
    }
   ],
   "source": [
    "ratings.head()"
   ]
  },
  {
   "cell_type": "markdown",
   "id": "91bbf281-7ed3-43a2-9a27-1409a59e84da",
   "metadata": {},
   "source": [
    "## Preparing the training set and the test set"
   ]
  },
  {
   "cell_type": "code",
   "execution_count": 9,
   "id": "d0d043cc-e70a-4344-b9de-208230404a85",
   "metadata": {},
   "outputs": [],
   "source": [
    "training_set = pd.read_csv('ml-100k/u1.base', delimiter = '\\t')\n"
   ]
  },
  {
   "cell_type": "code",
   "execution_count": 10,
   "id": "2e039646-b575-4255-ae7f-5e1e7ada1cd2",
   "metadata": {},
   "outputs": [
    {
     "data": {
      "text/html": [
       "<div>\n",
       "<style scoped>\n",
       "    .dataframe tbody tr th:only-of-type {\n",
       "        vertical-align: middle;\n",
       "    }\n",
       "\n",
       "    .dataframe tbody tr th {\n",
       "        vertical-align: top;\n",
       "    }\n",
       "\n",
       "    .dataframe thead th {\n",
       "        text-align: right;\n",
       "    }\n",
       "</style>\n",
       "<table border=\"1\" class=\"dataframe\">\n",
       "  <thead>\n",
       "    <tr style=\"text-align: right;\">\n",
       "      <th></th>\n",
       "      <th>1</th>\n",
       "      <th>1.1</th>\n",
       "      <th>5</th>\n",
       "      <th>874965758</th>\n",
       "    </tr>\n",
       "  </thead>\n",
       "  <tbody>\n",
       "    <tr>\n",
       "      <th>0</th>\n",
       "      <td>1</td>\n",
       "      <td>2</td>\n",
       "      <td>3</td>\n",
       "      <td>876893171</td>\n",
       "    </tr>\n",
       "    <tr>\n",
       "      <th>1</th>\n",
       "      <td>1</td>\n",
       "      <td>3</td>\n",
       "      <td>4</td>\n",
       "      <td>878542960</td>\n",
       "    </tr>\n",
       "    <tr>\n",
       "      <th>2</th>\n",
       "      <td>1</td>\n",
       "      <td>4</td>\n",
       "      <td>3</td>\n",
       "      <td>876893119</td>\n",
       "    </tr>\n",
       "    <tr>\n",
       "      <th>3</th>\n",
       "      <td>1</td>\n",
       "      <td>5</td>\n",
       "      <td>3</td>\n",
       "      <td>889751712</td>\n",
       "    </tr>\n",
       "    <tr>\n",
       "      <th>4</th>\n",
       "      <td>1</td>\n",
       "      <td>7</td>\n",
       "      <td>4</td>\n",
       "      <td>875071561</td>\n",
       "    </tr>\n",
       "  </tbody>\n",
       "</table>\n",
       "</div>"
      ],
      "text/plain": [
       "   1  1.1  5  874965758\n",
       "0  1    2  3  876893171\n",
       "1  1    3  4  878542960\n",
       "2  1    4  3  876893119\n",
       "3  1    5  3  889751712\n",
       "4  1    7  4  875071561"
      ]
     },
     "execution_count": 10,
     "metadata": {},
     "output_type": "execute_result"
    }
   ],
   "source": [
    "training_set.head()"
   ]
  },
  {
   "cell_type": "code",
   "execution_count": 11,
   "id": "c7a189aa-79e9-4289-b11e-43c2eb809801",
   "metadata": {},
   "outputs": [
    {
     "data": {
      "text/plain": [
       "(79999, 4)"
      ]
     },
     "execution_count": 11,
     "metadata": {},
     "output_type": "execute_result"
    }
   ],
   "source": [
    "training_set.shape"
   ]
  },
  {
   "cell_type": "code",
   "execution_count": 12,
   "id": "9a8bb773-878f-4d8b-a39b-9ad5d427fa8b",
   "metadata": {},
   "outputs": [],
   "source": [
    "training_set = np.array(training_set, dtype = 'int')\n",
    "# to work with pytorch tensors we are using array format which is more faster"
   ]
  },
  {
   "cell_type": "code",
   "execution_count": 13,
   "id": "b3a5a43a-dae6-4654-8130-a00d7c807c45",
   "metadata": {},
   "outputs": [],
   "source": [
    "#same with the test set\n",
    "test_set = pd.read_csv('ml-100k/u1.test', delimiter = '\\t')\n",
    "test_set = np.array(test_set, dtype = 'int')"
   ]
  },
  {
   "cell_type": "code",
   "execution_count": 14,
   "id": "abde8d16-1765-4091-a21b-23f3762ba480",
   "metadata": {},
   "outputs": [
    {
     "data": {
      "text/plain": [
       "(19999, 4)"
      ]
     },
     "execution_count": 14,
     "metadata": {},
     "output_type": "execute_result"
    }
   ],
   "source": [
    "test_set.shape"
   ]
  },
  {
   "cell_type": "markdown",
   "id": "ad6eb150-2401-4f1b-901f-88e0e5828898",
   "metadata": {},
   "source": [
    "## Getting the number of users and movies\n"
   ]
  },
  {
   "cell_type": "code",
   "execution_count": 15,
   "id": "7d2a10cf-da2c-4b89-b386-b46d89003db0",
   "metadata": {},
   "outputs": [],
   "source": [
    "nb_users = int(max(max(training_set[:, 0], ), max(test_set[:, 0])))  # for maximum number of users\n",
    "nb_movies = int(max(max(training_set[:, 1], ), max(test_set[:, 1])))   # For maximum number of movies"
   ]
  },
  {
   "cell_type": "code",
   "execution_count": 16,
   "id": "df2703ed-e962-4667-9bb6-73b074dd515a",
   "metadata": {},
   "outputs": [
    {
     "data": {
      "text/plain": [
       "1682"
      ]
     },
     "execution_count": 16,
     "metadata": {},
     "output_type": "execute_result"
    }
   ],
   "source": [
    "nb_movies"
   ]
  },
  {
   "cell_type": "code",
   "execution_count": 17,
   "id": "fdbe64eb-5d08-4ac2-aa22-d1d2c99af316",
   "metadata": {},
   "outputs": [
    {
     "data": {
      "text/plain": [
       "943"
      ]
     },
     "execution_count": 17,
     "metadata": {},
     "output_type": "execute_result"
    }
   ],
   "source": [
    "nb_users"
   ]
  },
  {
   "cell_type": "markdown",
   "id": "d90ddf26-32f0-4c4d-afe6-7b898929d2c8",
   "metadata": {},
   "source": [
    "## Converting the data into an array with users in lines and movies in columns\n"
   ]
  },
  {
   "cell_type": "markdown",
   "id": "11b8ede5-6dd0-4425-8950-1ef41bd6b469",
   "metadata": {},
   "source": [
    "As we are going to work with Torch tensors we are going to create List os Lists not 2d array, as torch expects list of lists"
   ]
  },
  {
   "cell_type": "code",
   "execution_count": 18,
   "id": "6d2c8101-bb21-4eb3-a799-ca127e72da2d",
   "metadata": {},
   "outputs": [],
   "source": [
    "def convert(data):\n",
    "  new_data = []\n",
    "  for id_users in range(1, nb_users + 1):\n",
    "    id_movies = data[:, 1] [data[:, 0] == id_users] # we are accessing the movies_id for each Id_user\n",
    "    id_ratings = data[:, 2] [data[:, 0] == id_users]   # we are accessing the ratings for movies for each Id_user\n",
    "    ratings = np.zeros(nb_movies)  # creating a list of zeroes to initialize the ratings to be 0\n",
    "    ratings[id_movies - 1] = id_ratings  # to assign the ratings from index 0 which is first position\n",
    "    new_data.append(list(ratings))     # appending the users ratings to whole dataset\n",
    "  return new_data\n",
    "training_set = convert(training_set)\n",
    "test_set = convert(test_set)"
   ]
  },
  {
   "cell_type": "markdown",
   "id": "d66ab486-c2e0-4e30-b923-e04c5c266f0c",
   "metadata": {},
   "source": [
    "## Converting the data into Torch tensors\n"
   ]
  },
  {
   "cell_type": "code",
   "execution_count": 19,
   "id": "9581f26f-d006-46e1-aea7-aad2d5f4e237",
   "metadata": {},
   "outputs": [],
   "source": [
    "training_set = torch.FloatTensor(training_set)\n",
    "test_set = torch.FloatTensor(test_set)"
   ]
  },
  {
   "cell_type": "markdown",
   "id": "ac20aad9-af83-43ff-a0bd-2c6785008110",
   "metadata": {},
   "source": [
    "## Converting the ratings into binary ratings 1 (Liked) or 0 (Not Liked)\n"
   ]
  },
  {
   "cell_type": "code",
   "execution_count": 20,
   "id": "fddc5b05-e8df-4e97-a2fa-83ef489ec604",
   "metadata": {},
   "outputs": [],
   "source": [
    "training_set[training_set == 0] = -1\n",
    "training_set[training_set == 1] = 0  # or operator doesn't work as usual with torch tensors [training_set == 1 or training_set == 2]\n",
    "training_set[training_set == 2] = 0\n",
    "training_set[training_set >= 3] = 1\n",
    "test_set[test_set == 0] = -1\n",
    "test_set[test_set == 1] = 0\n",
    "test_set[test_set == 2] = 0\n",
    "test_set[test_set >= 3] = 1"
   ]
  },
  {
   "cell_type": "markdown",
   "id": "6f20710b-42db-45bd-b7e0-6b97de311c2b",
   "metadata": {},
   "source": [
    "## Creating the architecture of the Neural Network\n"
   ]
  },
  {
   "cell_type": "code",
   "execution_count": 21,
   "id": "ae9a6ad4-ef4a-4bc0-b992-cbe31e6eac93",
   "metadata": {},
   "outputs": [],
   "source": [
    "class RBM():\n",
    "  def __init__(self, nv, nh):  # nv= visible nodes , nh= hidden nodes, _init_ function is the default function\n",
    "    self.W = torch.randn(nh, nv)  # initializes random value(weight) acc. to normal distribution to tht nodes of matrix(nh,nv) mean =0, variance=1\n",
    "                                   # as probability of visible nodes acc. to hidden node\n",
    "    self.a = torch.randn(1, nh)    # adding bias of probability of hidden nodes given that of visible node(a is a parameter of object self)\n",
    "    self.b = torch.randn(1, nv)    # adding bias of probability of visible nodes given that of hidden node\n",
    "                                   #it creates a 2D tensor first is for batch size(1,nh),2nd is for bias. Because Pytorch excepts 2D tensor\n",
    "\n",
    "    \n",
    "\n",
    "    # for using Gibbs Samplening X is taken for probability for P(h) given P(v)\n",
    "  def sample_h(self, x):   # This function is for Hidden Nodes\n",
    "    wx = torch.mm(x, self.W.t())  # product(mm command) of 2 tensors to make vectors(product of weights time neurons plus bias a)\n",
    "                                       #self.W is used as it is tensors of weight and .t() ,self.W.t() is add to make it transpose to make it correct \n",
    "    activation = wx + self.a.expand_as(wx)  # self.a.expand_as(wx), expand is used to add bias are applied to all mimi batches and \n",
    "                                              # 1 extra dimension to  make sure it is applied\n",
    "                                                # a is bias for hidden nodes\n",
    "    p_h_given_v = torch.sigmoid(activation)  # probability of hidden node getting activated given the value of visible node\n",
    "    return p_h_given_v, torch.bernoulli(p_h_given_v)  # bernoulli, is used as it is a bernoulli RBM as output is binary 0,1\n",
    "                                                      # torch.bernoulli is used to activate hidden neurons by bernoulli sampling\n",
    "\n",
    "    \n",
    "  def sample_v(self, y):   # This function is for Visible Nodes\n",
    "    wy = torch.mm(y, self.W)   # here we are not taking Transpose function as it is  already is Probability of visible nodes given Hidden Nodes\n",
    "    activation = wy + self.b.expand_as(wy)       # taking b as it is bias of visible nodes\n",
    "    p_v_given_h = torch.sigmoid(activation)            # probability of visibe node(==1) getting activated given the value of hiddden node\n",
    "    return p_v_given_h, torch.bernoulli(p_v_given_h)     # Number of visible nodes is equal to number opf movies\n",
    "\n",
    " #vo= input vector  contains rating, vk= visible nodes after k sampling\n",
    " #ph0= probability of hidden node is 1 in 1st itertaion,phk=probalities of hidden node after k sampling given vk\n",
    "\n",
    "\n",
    "    \n",
    "  def train(self, v0, vk, ph0, phk): \n",
    "    self.W += (torch.mm(v0.t(), ph0) - torch.mm(vk.t(), phk)).t()    # update tensors of weights,mm=product of 2 tensors      \n",
    "    self.b += torch.sum((v0 - vk), 0)   #we have to keep tensor of 2d\n",
    "    self.a += torch.sum((ph0 - phk), 0)\n",
    "\n",
    "\n",
    "#nv= number of visible nodes or number of movies(1 visible node for each movie)\n",
    "nv = len(training_set[0])\n",
    "#nh = number of hidden nodes(parameter we choose),like features as actors,directors,gener,producer,action,old,new\n",
    "nh = 100\n",
    "# batch size is needed as we update the weight after each observation\n",
    "batch_size = 32\n",
    "rbm = RBM(nv, nh)\n"
   ]
  },
  {
   "cell_type": "markdown",
   "id": "ef97a1ab-6a9e-421e-ae3c-2e70bd1b3fd0",
   "metadata": {},
   "source": [
    "## Training the RBM"
   ]
  },
  {
   "cell_type": "code",
   "execution_count": 22,
   "id": "e8cea0a8-2ef5-4c3b-a210-ea743e3e13a6",
   "metadata": {},
   "outputs": [
    {
     "name": "stdout",
     "output_type": "stream",
     "text": [
      "epoch: 1 loss: tensor(0.2958)\n",
      "epoch: 2 loss: tensor(0.2537)\n",
      "epoch: 3 loss: tensor(0.2441)\n",
      "epoch: 4 loss: tensor(0.2507)\n",
      "epoch: 5 loss: tensor(0.2511)\n",
      "epoch: 6 loss: tensor(0.2466)\n",
      "epoch: 7 loss: tensor(0.2490)\n",
      "epoch: 8 loss: tensor(0.2487)\n",
      "epoch: 9 loss: tensor(0.2497)\n",
      "epoch: 10 loss: tensor(0.2497)\n"
     ]
    }
   ],
   "source": [
    "nb_epoch = 10\n",
    "for epoch in range(1, nb_epoch + 1):  # for any deep learning mmodel we need a loss function\n",
    "  train_loss = 0  #variable for loss function\n",
    "  s = 0.  # s is the counter, we will use it to normalize the trainig loss\n",
    "  for id_user in range(0, nb_users - batch_size, batch_size): # to include users in batch size\n",
    "    vk = training_set[id_user : id_user + batch_size]  # ratings that alreday existed or given by the user\n",
    "    v0 = training_set[id_user : id_user + batch_size]  # it is batch of original rating, we will keep this to check with the predictyed value\n",
    "    ph0,_ = rbm.sample_h(v0) # we have to get our initial probabilities,probabilities that hidden node is 1 given the real ratings,\n",
    "                             #variable is the visible nodes as we get the probability of hidden node\n",
    "    for k in range(10):   # it is for k steps for constrative divergence,k steps for round them walk\n",
    "      _,hk = rbm.sample_h(vk)   # first update the hidden node\n",
    "      _,vk = rbm.sample_v(hk)    # then update the visible node\n",
    "      vk[v0<0] = v0[v0<0]        #we dont want to learn(-1)rating as the user have not gviven any ratings,we freeze the ratings of -1,keep -1 as it is\n",
    "    phk,_ = rbm.sample_h(vk)  # we want to get first element of sample_h\n",
    "    rbm.train(v0, vk, ph0, phk)\n",
    "    train_loss += torch.mean(torch.abs(v0[v0 >= 0] - vk[v0 >= 0]))  #we are cal error with simple distance now btw prediction and real rating\n",
    "    s += 1.                                                          #[v0 >= 0] is given to exclude -1 as it doesnt exist\n",
    "  print('epoch: '+str(epoch)+' loss: '+str(train_loss/s))\n"
   ]
  },
  {
   "cell_type": "code",
   "execution_count": 23,
   "id": "3981f31b-2c4f-4875-a92d-36638488383f",
   "metadata": {},
   "outputs": [
    {
     "name": "stdout",
     "output_type": "stream",
     "text": [
      "test loss: tensor(0.2360)\n"
     ]
    }
   ],
   "source": [
    "test_loss = 0\n",
    "s = 0.\n",
    "for id_user in range(nb_users):\n",
    "    v = training_set[id_user:id_user+1]  # we have to predict for each user,this will be the input,it will activate hidden neurons,its prediction\n",
    "    vt = test_set[id_user:id_user+1]  # vt is the target or original variable(ratings)\n",
    "    if len(vt[vt>=0]) > 0:  #we need to make one step,its a blind walk as we predict the next output and filter the non existence\n",
    "        _,h = rbm.sample_h(v)\n",
    "        _,v = rbm.sample_v(h)\n",
    "        test_loss += torch.mean(torch.abs(vt[vt>=0] - v[vt>=0]))\n",
    "        s += 1.\n",
    "print('test loss: '+str(test_loss/s))"
   ]
  },
  {
   "cell_type": "code",
   "execution_count": null,
   "id": "e9301fc6-5c4e-4444-a16b-8af51cdfc788",
   "metadata": {},
   "outputs": [],
   "source": []
  }
 ],
 "metadata": {
  "kernelspec": {
   "display_name": "Python 3 (ipykernel)",
   "language": "python",
   "name": "python3"
  },
  "language_info": {
   "codemirror_mode": {
    "name": "ipython",
    "version": 3
   },
   "file_extension": ".py",
   "mimetype": "text/x-python",
   "name": "python",
   "nbconvert_exporter": "python",
   "pygments_lexer": "ipython3",
   "version": "3.12.3"
  }
 },
 "nbformat": 4,
 "nbformat_minor": 5
}
